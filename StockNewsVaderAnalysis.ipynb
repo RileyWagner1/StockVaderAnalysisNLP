{
  "nbformat": 4,
  "nbformat_minor": 0,
  "metadata": {
    "colab": {
      "provenance": []
    },
    "kernelspec": {
      "name": "python3",
      "display_name": "Python 3"
    },
    "language_info": {
      "name": "python"
    }
  },
  "cells": [
    {
      "cell_type": "code",
      "source": [
        "import requests\n",
        "import numpy as np\n",
        "import pandas as pd\n",
        "from bs4 import BeautifulSoup\n",
        "import nltk\n",
        "nltk.downloader.download('vader_lexicon')\n",
        "\n",
        "#very simple vader sentiment scoring model\n",
        "from nltk.sentiment import SentimentIntensityAnalyzer\n",
        "from tqdm.notebook import tqdm\n",
        "\n",
        "sia = SentimentIntensityAnalyzer()"
      ],
      "metadata": {
        "colab": {
          "base_uri": "https://localhost:8080/"
        },
        "id": "jiYI70HySHGA",
        "outputId": "98fe98ef-455a-424f-fe87-6235bc31018f"
      },
      "execution_count": 1,
      "outputs": [
        {
          "output_type": "stream",
          "name": "stderr",
          "text": [
            "[nltk_data] Downloading package vader_lexicon to /root/nltk_data...\n"
          ]
        }
      ]
    },
    {
      "cell_type": "code",
      "execution_count": 2,
      "metadata": {
        "colab": {
          "base_uri": "https://localhost:8080/"
        },
        "id": "pyml1MVFSCJH",
        "outputId": "1cfe3bd7-bfa7-44d3-ecdd-987ef69efc98"
      },
      "outputs": [
        {
          "output_type": "stream",
          "name": "stdout",
          "text": [
            "AAPL sentiment is 0.083676\n",
            "MSFT sentiment is 0.096718\n",
            "AMZN sentiment is 0.222506\n",
            "TSLA sentiment is 0.06668400000000001\n",
            "GOOGL sentiment is 0.064552\n",
            "GOOG sentiment is 0.04750100000000001\n",
            "NVDA sentiment is 0.101661\n",
            "BRK.B sentiment is 0.084544\n",
            "META sentiment is -0.01563232323232323\n",
            "UNH sentiment is 0.09036799999999999\n"
          ]
        }
      ],
      "source": [
        "#Lets scrape top 10 heaviest weighted stocks in S&P 500 (multiple stocks):\n",
        "\n",
        "#https://www.investopedia.com/top-10-s-and-p-500-stocks-by-index-weight-4843111\n",
        "\n",
        "stocks = [\"AAPL\", \"MSFT\", \"AMZN\", \"TSLA\", \"GOOGL\", \"GOOG\", \"NVDA\", \"BRK.B\", \"META\", \"UNH\"]\n",
        "\n",
        "stock_sentiments = []\n",
        "\n",
        "\n",
        "for stock in stocks:\n",
        "  url = \"https://news.google.com/search?q={}&hl=en-US&gl=US&ceid=US%3Aen\".format(stock)\n",
        "  page = requests.get(url)\n",
        "  soup = BeautifulSoup(page.content, \"html.parser\")\n",
        "\n",
        "  posts = soup.find_all(\"div\", class_= \"xrnccd\")\n",
        "\n",
        "  headlines = []\n",
        "\n",
        "  for i in range(0, len(posts)):\n",
        "    headlines.append(posts[i].find(\"h3\", class_ = \"ipQwMb ekueJc RD0gLb\").text)\n",
        "\n",
        "  scores = []\n",
        "\n",
        "  for i in range(0, len(headlines)):\n",
        "    x = sia.polarity_scores(headlines[i])\n",
        "    y = x[\"compound\"]\n",
        "    scores.append(y)\n",
        "\n",
        "  print(stock, \"sentiment is\", str(np.average(scores)))"
      ]
    }
  ]
}